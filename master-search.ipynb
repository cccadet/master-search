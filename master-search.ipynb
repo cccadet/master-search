{
 "cells": [
  {
   "cell_type": "code",
   "execution_count": null,
   "metadata": {},
   "outputs": [],
   "source": [
    "from dotenv import load_dotenv\n",
    "import os\n",
    "from IPython.display import display, Markdown, Latex\n",
    "from langchain_openai import ChatOpenAI\n",
    "from crewai_tools import BaseTool\n",
    "from embedchain import App\n",
    "\n",
    "load_dotenv()\n",
    "\n",
    "model_name = os.getenv(\"OPENAI_MODEL_NAME\", \"gpt-4o-mini\")\n",
    "embedding_model_name = os.getenv(\"LOCAL_EMBEDDINGS_MODEL\")\n",
    "\n",
    "llm = ChatOpenAI(temperature=0, model_name=model_name)"
   ]
  },
  {
   "cell_type": "code",
   "execution_count": null,
   "metadata": {},
   "outputs": [],
   "source": [
    "class SearchInFiles(BaseTool):\n",
    "    name: str = \"Pesquisar no diretório\"\n",
    "    description: str = (\n",
    "        \"Retorna os dados dos arquivos do diretório.\"\n",
    "    )\n",
    "\n",
    "    def _run(self, topic: str) -> str:\n",
    "        # load chroma configuration from yaml file\n",
    "        app = App.from_config(config_path=\"ingestion.yaml\")\n",
    "\n",
    "        result = app.query(input_query=topic, citations=True, limit=5)\n",
    "        return result"
   ]
  },
  {
   "cell_type": "code",
   "execution_count": null,
   "metadata": {},
   "outputs": [],
   "source": [
    "result = SearchInFiles().run(topic=\"\"\"Consultas Mongo: \n",
    "# Score \"\"\")"
   ]
  },
  {
   "cell_type": "code",
   "execution_count": null,
   "metadata": {},
   "outputs": [],
   "source": [
    "saida = result[0]\n",
    "Markdown(saida)"
   ]
  },
  {
   "cell_type": "code",
   "execution_count": null,
   "metadata": {},
   "outputs": [],
   "source": [
    "fontes = \"\"\n",
    "import os\n",
    "current_dir = os.getcwd()\n",
    "\n",
    "\n",
    "for i in range(len(result[1])):\n",
    "    fontes_temp = result[1][i][1]\n",
    "\n",
    "    fontes += f\"**Fonte:** [{fontes_temp['source']}](<./{fontes_temp['source']}>)\\n\"\n",
    "    #fontes += f\" | [Abrir pasta](<./{fontes_temp['source'][:fontes_temp['source'].rfind('/')]}>)\\n\"\n",
    "    fontes += f\"**Score:** {fontes_temp['score']}\\n\\n\"\n",
    "\n",
    "display(Markdown(fontes))"
   ]
  },
  {
   "cell_type": "code",
   "execution_count": null,
   "metadata": {},
   "outputs": [],
   "source": [
    "from crewai import Agent, Crew, Process, Task\n",
    "\n",
    "# abrir arquivo yaml como dict\n",
    "def load_yaml(file_path):\n",
    "    import yaml\n",
    "    with open(file_path, 'r') as stream:\n",
    "        try:\n",
    "            return yaml.safe_load(stream)\n",
    "        except yaml.YAMLError as exc:\n",
    "            print(exc)\n",
    "\n",
    "agents_config = load_yaml(\"src/master_search/config/agents.yaml\")\n",
    "tasks_config = load_yaml(\"src/master_search/config/tasks.yaml\")"
   ]
  },
  {
   "cell_type": "code",
   "execution_count": null,
   "metadata": {},
   "outputs": [],
   "source": [
    "researcher = Agent(\n",
    "\tconfig=agents_config['researcher'],\n",
    "    tools=[directory_tool],\n",
    "    verbose=True,\n",
    "    llm=llm,\n",
    "\tallow_delegation=False,\n",
    ")\n",
    "\n",
    "research_task = Task(\n",
    "\tconfig=tasks_config['research_task'],\n",
    "    agent=researcher,\n",
    "    verbose=True,\n",
    "    llm=llm,\n",
    ")\n",
    "\n",
    "\n",
    "crew = Crew(\n",
    "  agents=[researcher],\n",
    "  tasks=[research_task],\n",
    "  verbose=2,\n",
    "  memory=False,\n",
    "  llm=llm,\n",
    "  full_output=True,\n",
    "  planning=False,\n",
    ")\n",
    "\n",
    "input_text = \"Qual query do mongo é usada para buscar os compromissos?\"\n",
    "\n",
    "inputs = {\n",
    "    \"topic\": input_text\n",
    "}\n",
    "result = crew.kickoff(inputs=inputs)"
   ]
  },
  {
   "cell_type": "code",
   "execution_count": null,
   "metadata": {},
   "outputs": [],
   "source": [
    "Markdown(result.raw)"
   ]
  },
  {
   "cell_type": "code",
   "execution_count": null,
   "metadata": {},
   "outputs": [],
   "source": []
  }
 ],
 "metadata": {
  "kernelspec": {
   "display_name": "crewai",
   "language": "python",
   "name": "python3"
  },
  "language_info": {
   "codemirror_mode": {
    "name": "ipython",
    "version": 3
   },
   "file_extension": ".py",
   "mimetype": "text/x-python",
   "name": "python",
   "nbconvert_exporter": "python",
   "pygments_lexer": "ipython3",
   "version": "3.12.4"
  }
 },
 "nbformat": 4,
 "nbformat_minor": 2
}
